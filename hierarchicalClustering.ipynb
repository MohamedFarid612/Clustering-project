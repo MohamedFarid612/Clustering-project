{
 "cells": [
  {
   "cell_type": "code",
   "execution_count": 1,
   "metadata": {},
   "outputs": [],
   "source": [
    "import numpy as np\n",
    "import pandas as pd\n",
    "from sklearn.metrics.pairwise import euclidean_distances\n",
    "from sklearn.preprocessing import OneHotEncoder\n",
    "from sklearn.compose import ColumnTransformer\n",
    "from sklearn.preprocessing import StandardScaler\n",
    "import pickle\n",
    "from sklearn.metrics import pairwise_distances\n",
    "from sklearn.model_selection import train_test_split\n",
    "from sklearn.metrics import ConfusionMatrixDisplay\n",
    "from sklearn.metrics import confusion_matrix\n",
    "from sklearn.metrics import classification_report\n",
    "from sklearn.metrics import accuracy_score\n",
    "from scipy.spatial import distance_matrix as distanceMatrix\n",
    "from sklearn.preprocessing import OneHotEncoder\n",
    "from sklearn.cluster import KMeans\n",
    "from sklearn.cluster import SpectralClustering\n"
   ]
  },
  {
   "cell_type": "code",
   "execution_count": 2,
   "metadata": {},
   "outputs": [],
   "source": [
    "def loadData(path):\n",
    "    data = pd.read_csv(path)\n",
    "    x = data.iloc[:, :-1].values\n",
    "    y = data.iloc[:, -1].values\n",
    "    return x, y\n",
    "\n",
    "def splitData(x, y, train_size):\n",
    "    x_train, x_test, y_train, y_test = train_test_split(x, y, train_size=train_size, random_state=0, stratify=y)\n",
    "    return x_train, x_test, y_train, y_test\n",
    "\n",
    "def preprocessData(x):\n",
    "\n",
    "    # Creating instance of one-hot-encoder    \n",
    "    one_hot_scaler = OneHotEncoder()\n",
    "\n",
    "    # Only for categorical data which are at columns in index 1,2,3\n",
    "    encoded = one_hot_scaler.fit_transform(x[:, [1,2,3]]).toarray()\n",
    "\n",
    "    # Adding the encoded columns to the original data\n",
    "    x = np.concatenate((x, encoded), axis=1)\n",
    "    \n",
    "    # Dropping the categorical columns\n",
    "    x = np.delete(x, [1,2,3], axis=1)\n",
    "\n",
    "    # Scaling the data since the features are in different scales\n",
    "    scaler = StandardScaler()\n",
    "    scaler = scaler.fit(x)\n",
    "    x = pd.DataFrame(scaler.transform(x))\n",
    "    \n",
    "    return x"
   ]
  },
  {
   "cell_type": "markdown",
   "metadata": {},
   "source": [
    "### Hierarchical Clustering (Agglomerative Clustering not Divisive)"
   ]
  },
  {
   "cell_type": "code",
   "execution_count": 11,
   "metadata": {},
   "outputs": [],
   "source": [
    "def linkage(distance_matrix, clusters, cluster1, cluster2, linkage):\n",
    "    if linkage == 'single':\n",
    "        min_distance = np.inf\n",
    "        for i in clusters[cluster1]:\n",
    "            for j in clusters[cluster2]:\n",
    "                if distance_matrix[i,j] < min_distance:\n",
    "                    min_distance = distance_matrix[i,j]\n",
    "        return min_distance\n",
    "    elif linkage == 'complete':\n",
    "        max_distance = -np.inf\n",
    "        for i in clusters[cluster1]:\n",
    "            for j in clusters[cluster2]:\n",
    "                if distance_matrix[i,j] > max_distance:\n",
    "                    max_distance = distance_matrix[i,j]\n",
    "        return max_distance\n",
    "    elif linkage == 'average' or linkage == 'centroid' or linkage == 'mean':\n",
    "        sum_distance = 0\n",
    "        for i in clusters[cluster1]:\n",
    "            for j in clusters[cluster2]:\n",
    "                sum_distance += distance_matrix[i,j]\n",
    "        return sum_distance/(len(clusters[cluster2]) * len(clusters[cluster1]))\n",
    "    else:\n",
    "        raise ValueError('Invalid linkage type')\n",
    "    \n",
    "def hierarchical_clustering(data, linkage_type, n_clusters, y):\n",
    "    # Marking each data point as a cluster\n",
    "    clusters = [[i] for i in range(len(data))]\n",
    "\n",
    "    # Calculating the distance matrix using Euclidean distance (default of distanceMatrix function)\n",
    "    distance_matrix = distanceMatrix(data, data)\n",
    "\n",
    "    # Iteratively merging the clusters\n",
    "    while len(clusters) > n_clusters:\n",
    "\n",
    "        # Finding closest two clusters\n",
    "        min_distance = np.inf\n",
    "        min_i,min_j = -1,-1\n",
    "        for i in range(len(clusters)):\n",
    "            for j in range(i+1,len(clusters)):\n",
    "                dist = distance_matrix[i,j]\n",
    "                if dist < min_distance:\n",
    "                    min_distance = dist\n",
    "                    min_i,min_j = i,j\n",
    "\n",
    "        # Merging the closest two clusters\n",
    "        clusters[min_i] = clusters[min_i] + clusters[min_j]\n",
    "\n",
    "        # Removing the second cluster\n",
    "        clusters.pop(min_j)\n",
    "        \n",
    "        # Adjusting the distance matrix \n",
    "        for i in range(len(clusters)):\n",
    "            if i == min_i: continue\n",
    "            distance_matrix[min_i,i] = distance_matrix[i,min_i] = linkage(distance_matrix, clusters, i, min_i, linkage_type)\n",
    "    \n",
    "    \n",
    "    # Using the majority voting to get the cluster labels\n",
    "    cluster_labels = []\n",
    "    for i in range(len(clusters)):\n",
    "        cluster_labels.append([])\n",
    "        for j in clusters[i]:\n",
    "            cluster_labels[i].append(y[j])\n",
    "        cluster_labels[i] = max(set(cluster_labels[i]), key = cluster_labels[i].count)\n",
    "    return clusters, cluster_labels"
   ]
  },
  {
   "cell_type": "markdown",
   "metadata": {},
   "source": [
    "# Evaluating hierarchical clustering"
   ]
  },
  {
   "cell_type": "code",
   "execution_count": 12,
   "metadata": {},
   "outputs": [
    {
     "name": "stdout",
     "output_type": "stream",
     "text": [
      "The shape of the training data is:  (1235, 71)\n"
     ]
    }
   ],
   "source": [
    "# Loading the data\n",
    "x, y = loadData('archive/kddcup.data_10_percent_corrected')\n",
    "\n",
    "# Splitting the data into train and test\n",
    "x_train, x_test, y_train, y_test = splitData(x, y, train_size=0.0025)\n",
    "\n",
    "# Only using the training data, which will be preprocessed\n",
    "x_train = preprocessData(x_train)\n",
    "print(\"The shape of the training data is: \", x_train.shape)\n",
    "\n"
   ]
  },
  {
   "cell_type": "code",
   "execution_count": 14,
   "metadata": {},
   "outputs": [
    {
     "name": "stdout",
     "output_type": "stream",
     "text": [
      "The average precision(purity) is:  0.9812896519588515\n",
      "The average recall is:  0.9812896519588515\n",
      "The average f1 score is:  0.9812896519588516\n"
     ]
    }
   ],
   "source": [
    "# Applying hierarchical clustering\n",
    "clusters, clusters_labels = hierarchical_clustering(x_train, 'single', 23, y_train)\n",
    "y_pred = clusters_labels\n",
    "total_prec = 0\n",
    "total_rec = 0\n",
    "f1 = 0\n",
    "\n",
    "for i in range(len(clusters)):\n",
    "    total_prec += np.sum(y_pred[i] == y_train[clusters[i]]) / len(clusters[i])\n",
    "    total_rec += np.sum(y_pred[i] == y_train[clusters[i]]) / len(y_train[clusters[i]])\n",
    "\n",
    "f1 = 2 * (total_prec/len(clusters) * total_rec/len(clusters)) / (total_prec/len(clusters) + total_rec/len(clusters))\n",
    "\n",
    "print(\"The average precision(purity) is: \", total_prec/len(clusters))\n",
    "print(\"The average recall is: \", total_rec/len(clusters))\n",
    "print(\"The average f1 score is: \", f1)"
   ]
  }
 ],
 "metadata": {
  "kernelspec": {
   "display_name": "Python 3",
   "language": "python",
   "name": "python3"
  },
  "language_info": {
   "codemirror_mode": {
    "name": "ipython",
    "version": 3
   },
   "file_extension": ".py",
   "mimetype": "text/x-python",
   "name": "python",
   "nbconvert_exporter": "python",
   "pygments_lexer": "ipython3",
   "version": "3.10.10"
  },
  "orig_nbformat": 4
 },
 "nbformat": 4,
 "nbformat_minor": 2
}
