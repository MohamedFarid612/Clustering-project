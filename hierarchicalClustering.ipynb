{
 "cells": [
  {
   "cell_type": "code",
   "execution_count": 1,
   "metadata": {},
   "outputs": [],
   "source": [
    "import numpy as np\n",
    "import pandas as pd\n",
    "from sklearn.metrics.pairwise import euclidean_distances\n",
    "from sklearn.preprocessing import OneHotEncoder\n",
    "from sklearn.compose import ColumnTransformer\n",
    "from sklearn.preprocessing import StandardScaler\n",
    "import pickle\n",
    "from sklearn.metrics import pairwise_distances\n",
    "from sklearn.model_selection import train_test_split\n",
    "from sklearn.metrics import ConfusionMatrixDisplay\n",
    "from sklearn.metrics import confusion_matrix\n",
    "from sklearn.metrics import classification_report\n",
    "from sklearn.metrics import accuracy_score\n",
    "from scipy.spatial import distance_matrix as distanceMatrix\n",
    "from sklearn.preprocessing import OneHotEncoder\n",
    "from sklearn.cluster import KMeans\n",
    "from sklearn.cluster import SpectralClustering\n",
    "import matplotlib.pyplot as plt\n",
    "from sklearn.metrics import precision_score, recall_score, f1_score\n",
    "from sklearn.metrics import accuracy_score"
   ]
  },
  {
   "cell_type": "code",
   "execution_count": 2,
   "metadata": {},
   "outputs": [],
   "source": [
    "def loadData(path):\n",
    "    data = pd.read_csv(path)\n",
    "    x = data.iloc[:, :-1].values\n",
    "    y = data.iloc[:, -1].values\n",
    "    return x, y\n",
    "\n",
    "def splitData(x, y, train_size):\n",
    "    x_train, x_test, y_train, y_test = train_test_split(x, y, train_size=train_size, random_state=0, stratify=y)\n",
    "    return x_train, x_test, y_train, y_test\n",
    "\n",
    "def preprocessData(x):\n",
    "    \n",
    "    ct = ColumnTransformer( [('one_hot_encoder', OneHotEncoder(), [1, 2, 3])], remainder='passthrough' )\n",
    "    ct = ct.fit(x)\n",
    "    x = pd.DataFrame(ct.transform(x))\n",
    "\n",
    "    # Scaling the data since the features are in different scales\n",
    "    scaler = StandardScaler()\n",
    "    scaler = scaler.fit(x)\n",
    "    x = pd.DataFrame(scaler.transform(x))\n",
    "\n",
    "    return x"
   ]
  },
  {
   "cell_type": "markdown",
   "metadata": {},
   "source": [
    "### Hierarchical Clustering (Agglomerative Clustering not Divisive)"
   ]
  },
  {
   "cell_type": "code",
   "execution_count": 3,
   "metadata": {},
   "outputs": [],
   "source": [
    "def linkage(distance_matrix, clusters, cluster1, cluster2, linkage):\n",
    "    if linkage == 'single': # Minimum distance between two clusters\n",
    "        min_distance = np.inf\n",
    "        for i in clusters[cluster1]:\n",
    "            for j in clusters[cluster2]:\n",
    "                if distance_matrix[i,j] < min_distance:\n",
    "                    min_distance = distance_matrix[i,j]\n",
    "        return min_distance\n",
    "    elif linkage == 'complete': # Maximum distance between two clusters\n",
    "        max_distance = -np.inf\n",
    "        for i in clusters[cluster1]:\n",
    "            for j in clusters[cluster2]:\n",
    "                if distance_matrix[i,j] > max_distance:\n",
    "                    max_distance = distance_matrix[i,j]\n",
    "        return max_distance\n",
    "    elif linkage == 'average' or linkage == 'centroid' or linkage == 'mean': # Average distance between two clusters\n",
    "        sum_distance = 0\n",
    "        for i in clusters[cluster1]:\n",
    "            for j in clusters[cluster2]:\n",
    "                sum_distance += distance_matrix[i,j]\n",
    "        return sum_distance/(len(clusters[cluster2]) * len(clusters[cluster1]))\n",
    "    else:\n",
    "        raise ValueError('Invalid linkage type')\n",
    "    \n",
    "def hierarchical_clustering(data, linkage_type, n_clusters, y):\n",
    "    # Marking each data point as a cluster\n",
    "    clusters = [[i] for i in range(len(data))]\n",
    "\n",
    "    # Calculating the distance matrix using Euclidean distance (default of distanceMatrix function)\n",
    "    distance_matrix = distanceMatrix(data, data)\n",
    "\n",
    "    # Make sure that the diagonal is zero and the matrix is symmetric\n",
    "    np.fill_diagonal(distance_matrix, 0)\n",
    "    distance_matrix = (distance_matrix + distance_matrix.T)/2\n",
    "    \n",
    "    # Iteratively merging the clusters\n",
    "    while len(clusters) > n_clusters:\n",
    "\n",
    "        # Finding closest two clusters\n",
    "        min_distance = np.inf\n",
    "        min_i,min_j = -1,-1\n",
    "        for i in range(len(clusters)):\n",
    "            for j in range(i+1,len(clusters)):\n",
    "                dist = distance_matrix[i,j]\n",
    "                if dist < min_distance:\n",
    "                    min_distance = dist\n",
    "                    min_i,min_j = i,j\n",
    "\n",
    "        # Merging the closest two clusters\n",
    "        clusters[min_i] = clusters[min_i] + clusters[min_j]\n",
    "\n",
    "        # Removing the second cluster\n",
    "        clusters.pop(min_j)\n",
    "        \n",
    "        # Adjusting the distance matrix \n",
    "        for i in range(len(clusters)):\n",
    "            if i == min_i: continue\n",
    "            distance_matrix[min_i,i] = distance_matrix[i,min_i] = linkage(distance_matrix, clusters, i, min_i, linkage_type)\n",
    "    \n",
    "    # Using the majority voting to get the cluster labels \n",
    "    indexToLabel = {}\n",
    "    for i in range(len(clusters)):\n",
    "        labels = []\n",
    "        for j in clusters[i]:\n",
    "            labels.append(y[j])\n",
    "        indexToLabel[i] = max(set(labels), key=labels.count)\n",
    "        \n",
    "\n",
    "    predicted = []\n",
    "    for i in range(len(data)):\n",
    "        for j in range(len(clusters)):\n",
    "            if i in clusters[j]:\n",
    "                predicted.append(indexToLabel[j])\n",
    "                break\n",
    "    return clusters, predicted\n"
   ]
  },
  {
   "cell_type": "markdown",
   "metadata": {},
   "source": [
    "# Evaluating hierarchical clustering"
   ]
  },
  {
   "cell_type": "code",
   "execution_count": 4,
   "metadata": {},
   "outputs": [
    {
     "name": "stdout",
     "output_type": "stream",
     "text": [
      "The shape of the training data is:  (4898430, 122)\n"
     ]
    }
   ],
   "source": [
    "# Loading the data\n",
    "x, y = loadData('archive/kddcup.data.corrected')\n",
    "\n",
    "# Preprocessing the data\n",
    "x = preprocessData(x)\n",
    "print(\"The shape of the training data is: \", x.shape)\n",
    "\n",
    "# Splitting the data into train and test\n",
    "x_train, x_test, y_train, y_test = splitData(x, y, train_size=0.00025)"
   ]
  },
  {
   "cell_type": "code",
   "execution_count": null,
   "metadata": {},
   "outputs": [],
   "source": [
    "# Save the x_train, x_test, y_train, y_test\n",
    "pickle.dump(x_train, open('hierarchicalClustering-Preprocessed/x_train.pkl', 'wb'))\n",
    "pickle.dump(y_train, open('hierarchicalClustering-Preprocessed/y_train.pkl', 'wb'))"
   ]
  },
  {
   "cell_type": "code",
   "execution_count": 6,
   "metadata": {},
   "outputs": [],
   "source": [
    "# Save the x_train and y_train as numpy arrays\n",
    "np.save('hierarchicalClustering-Preprocessed/x_train.npy', x_train)\n",
    "np.save('hierarchicalClustering-Preprocessed/y_train.npy', y_train)"
   ]
  },
  {
   "cell_type": "code",
   "execution_count": null,
   "metadata": {},
   "outputs": [],
   "source": [
    "# Loading the preprocessed data\n",
    "x_train = pickle.load(open('hierarchicalClustering-Preprocessed/x_train.pkl', 'rb'))\n",
    "y_train = pickle.load(open('hierarchicalClustering-Preprocessed/y_train.pkl', 'rb'))"
   ]
  },
  {
   "cell_type": "code",
   "execution_count": 9,
   "metadata": {},
   "outputs": [
    {
     "name": "stdout",
     "output_type": "stream",
     "text": [
      "Macro: \n",
      "Precision:  0.255315893217039\n",
      "Recall:  0.26043756930987444\n",
      "F1 score:  0.25580933775888776\n",
      "Accuracy:  0.684640522875817\n",
      "--------------------------------------------------\n",
      "Weighted: \n",
      "Precision:  0.6892193271823408\n",
      "Recall:  0.684640522875817\n",
      "F1 score:  0.6836720348230025\n",
      "Accuracy:  0.684640522875817\n",
      "--------------------------------------------------\n",
      "              precision    recall  f1-score   support\n",
      "\n",
      "    ipsweep.       0.00      0.00      0.00         3\n",
      "    neptune.       0.48      0.63      0.54       268\n",
      "       nmap.       0.00      0.00      0.00         1\n",
      "     normal.       0.44      0.37      0.40       243\n",
      "  portsweep.       0.00      0.00      0.00         3\n",
      "      satan.       0.00      0.00      0.00         4\n",
      "      smurf.       0.87      0.83      0.85       702\n",
      "\n",
      "    accuracy                           0.68      1224\n",
      "   macro avg       0.26      0.26      0.26      1224\n",
      "weighted avg       0.69      0.68      0.68      1224\n",
      "\n"
     ]
    },
    {
     "name": "stderr",
     "output_type": "stream",
     "text": [
      "C:\\Users\\Yousef\\AppData\\Local\\Packages\\PythonSoftwareFoundation.Python.3.10_qbz5n2kfra8p0\\LocalCache\\local-packages\\Python310\\site-packages\\sklearn\\metrics\\_classification.py:1344: UndefinedMetricWarning: Precision is ill-defined and being set to 0.0 in labels with no predicted samples. Use `zero_division` parameter to control this behavior.\n",
      "  _warn_prf(average, modifier, msg_start, len(result))\n",
      "C:\\Users\\Yousef\\AppData\\Local\\Packages\\PythonSoftwareFoundation.Python.3.10_qbz5n2kfra8p0\\LocalCache\\local-packages\\Python310\\site-packages\\sklearn\\metrics\\_classification.py:1344: UndefinedMetricWarning: Precision is ill-defined and being set to 0.0 in labels with no predicted samples. Use `zero_division` parameter to control this behavior.\n",
      "  _warn_prf(average, modifier, msg_start, len(result))\n",
      "C:\\Users\\Yousef\\AppData\\Local\\Packages\\PythonSoftwareFoundation.Python.3.10_qbz5n2kfra8p0\\LocalCache\\local-packages\\Python310\\site-packages\\sklearn\\metrics\\_classification.py:1344: UndefinedMetricWarning: Precision and F-score are ill-defined and being set to 0.0 in labels with no predicted samples. Use `zero_division` parameter to control this behavior.\n",
      "  _warn_prf(average, modifier, msg_start, len(result))\n",
      "C:\\Users\\Yousef\\AppData\\Local\\Packages\\PythonSoftwareFoundation.Python.3.10_qbz5n2kfra8p0\\LocalCache\\local-packages\\Python310\\site-packages\\sklearn\\metrics\\_classification.py:1344: UndefinedMetricWarning: Precision and F-score are ill-defined and being set to 0.0 in labels with no predicted samples. Use `zero_division` parameter to control this behavior.\n",
      "  _warn_prf(average, modifier, msg_start, len(result))\n",
      "C:\\Users\\Yousef\\AppData\\Local\\Packages\\PythonSoftwareFoundation.Python.3.10_qbz5n2kfra8p0\\LocalCache\\local-packages\\Python310\\site-packages\\sklearn\\metrics\\_classification.py:1344: UndefinedMetricWarning: Precision and F-score are ill-defined and being set to 0.0 in labels with no predicted samples. Use `zero_division` parameter to control this behavior.\n",
      "  _warn_prf(average, modifier, msg_start, len(result))\n"
     ]
    }
   ],
   "source": [
    "# Applying hierarchical clustering\n",
    "clusters, y_pred = hierarchical_clustering(x_train, 'complete', 23, y_train)\n",
    "\n",
    "# Evaluating the model\n",
    "print(\"Macro: \")\n",
    "print(\"Precision: \", precision_score(y_train, y_pred, average='macro'))\n",
    "print(\"Recall: \", recall_score(y_train, y_pred, average='macro'))\n",
    "print(\"F1 score: \", f1_score(y_train, y_pred, average='macro'))\n",
    "print(\"Accuracy: \", accuracy_score(y_train, y_pred))\n",
    "\n",
    "print(\"-\" * 50)\n",
    "print(\"Weighted: \")\n",
    "print(\"Precision: \", precision_score(y_train, y_pred, average='weighted'))\n",
    "print(\"Recall: \", recall_score(y_train, y_pred, average='weighted'))\n",
    "print(\"F1 score: \", f1_score(y_train, y_pred, average='weighted'))\n",
    "print(\"Accuracy: \", accuracy_score(y_train, y_pred))\n",
    "\n",
    "print(\"-\" * 50)\n",
    "print(classification_report(y_train, y_pred))"
   ]
  },
  {
   "cell_type": "code",
   "execution_count": null,
   "metadata": {},
   "outputs": [],
   "source": [
    "# Printing the confusion matrix\n",
    "cm = confusion_matrix(y_train, y_pred)\n",
    "# Displaying the confusion matrix in much bigger size\n",
    "disp = ConfusionMatrixDisplay(confusion_matrix=cm, display_labels=np.unique(y_train))\n",
    "disp.plot(cmap=plt.cm.Blues, values_format='d', xticks_rotation='vertical')\n",
    "plt.show()"
   ]
  }
 ],
 "metadata": {
  "kernelspec": {
   "display_name": "Python 3",
   "language": "python",
   "name": "python3"
  },
  "language_info": {
   "codemirror_mode": {
    "name": "ipython",
    "version": 3
   },
   "file_extension": ".py",
   "mimetype": "text/x-python",
   "name": "python",
   "nbconvert_exporter": "python",
   "pygments_lexer": "ipython3",
   "version": "3.10.10"
  },
  "orig_nbformat": 4
 },
 "nbformat": 4,
 "nbformat_minor": 2
}
