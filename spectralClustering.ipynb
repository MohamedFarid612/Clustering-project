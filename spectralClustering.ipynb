{
 "cells": [
  {
   "attachments": {},
   "cell_type": "markdown",
   "metadata": {},
   "source": [
    "# Spectral Clustering"
   ]
  },
  {
   "attachments": {},
   "cell_type": "markdown",
   "metadata": {},
   "source": [
    "## Important imports"
   ]
  },
  {
   "cell_type": "code",
   "execution_count": 1,
   "metadata": {},
   "outputs": [],
   "source": [
    "import numpy as np\n",
    "import pandas as pd\n",
    "from sklearn.metrics.pairwise import euclidean_distances\n",
    "from sklearn.preprocessing import OneHotEncoder\n",
    "from sklearn.compose import ColumnTransformer\n",
    "from sklearn.preprocessing import StandardScaler\n",
    "import pickle\n",
    "from sklearn.metrics import pairwise_distances\n",
    "from sklearn.model_selection import train_test_split\n",
    "from sklearn.metrics import ConfusionMatrixDisplay\n",
    "from sklearn.metrics import confusion_matrix\n",
    "from sklearn.metrics import classification_report\n",
    "from scipy.spatial import distance_matrix as distanceMatrix\n",
    "from sklearn.preprocessing import OneHotEncoder\n",
    "from sklearn.cluster import KMeans\n",
    "from sklearn.cluster import SpectralClustering\n",
    "from sklearn.metrics import precision_score, recall_score, f1_score\n",
    "from sklearn.metrics import accuracy_score"
   ]
  },
  {
   "attachments": {},
   "cell_type": "markdown",
   "metadata": {},
   "source": [
    "## Data and Preprocessing"
   ]
  },
  {
   "cell_type": "code",
   "execution_count": 2,
   "metadata": {},
   "outputs": [],
   "source": [
    "def loadData(path):\n",
    "    data = pd.read_csv(path)\n",
    "    x = data.iloc[:, :-1].values\n",
    "    y = data.iloc[:, -1].values\n",
    "    return x, y\n",
    "\n",
    "def splitData(x, y, train_size):\n",
    "    x_train, x_test, y_train, y_test = train_test_split(x, y, train_size=train_size, random_state=0, stratify=y)\n",
    "    return x_train, x_test, y_train, y_test\n",
    "\n",
    "def preprocessData(x):\n",
    "\n",
    "    ct = ColumnTransformer( [('one_hot_encoder', OneHotEncoder(), [1, 2, 3])], remainder='passthrough' )\n",
    "    ct = ct.fit(x)\n",
    "    x = pd.DataFrame(ct.transform(x))\n",
    "    # Drop the first, second and third columns\n",
    "    x = x.drop([1, 2, 3], axis=1)\n",
    "    return x"
   ]
  },
  {
   "attachments": {},
   "cell_type": "markdown",
   "metadata": {},
   "source": [
    "## Algorithm"
   ]
  },
  {
   "cell_type": "code",
   "execution_count": 3,
   "metadata": {},
   "outputs": [],
   "source": [
    "def constructWeightMatrix(data, gamma = 10):\n",
    "    # Computing weight matrix using rbf kernel\n",
    "    weight_matrix = np.exp(-gamma * pairwise_distances(data, metric='euclidean') ** 2)\n",
    "    return weight_matrix\n",
    "\n",
    "def clusteringUsingNormalizedCut(data, k, gamma = 10, y = None):\n",
    "\n",
    "    # Constructing the weight matrix\n",
    "    weight_matrix = constructWeightMatrix(data, gamma=gamma)\n",
    "\n",
    "    # Computing the degree matrix\n",
    "    degree_matrix = np.diag(np.sum(weight_matrix, axis=1))\n",
    "\n",
    "    # Computing the laplacian matrix\n",
    "    laplacian_matrix = degree_matrix - weight_matrix\n",
    "\n",
    "    # Computing the eigenvalues and eigenvectors of the laplacian matrix\n",
    "    eigenvalues, eigenvectors = np.linalg.eig(np.linalg.inv(degree_matrix).dot(laplacian_matrix))\n",
    "    \n",
    "    # Taking the only first k eigenvectors\n",
    "    eigenvectors = eigenvectors[:, :k]\n",
    "\n",
    "    # Taking only the real part of the eigenvectors\n",
    "    eigenvectors = np.real(eigenvectors)\n",
    "\n",
    "    # Convert the eigenvectors to pd dataframe\n",
    "    eigenvectors = pd.DataFrame(eigenvectors)\n",
    "    \n",
    "    # Normalizing the eigenvectors\n",
    "    eigenvectors = eigenvectors.apply(lambda x: (x - np.mean(x)) / np.std(x), axis=0)\n",
    "    \n",
    "    # Applying k-means on the eigenvectors\n",
    "    kmeans = KMeans(n_clusters=k, random_state=0).fit(eigenvectors)\n",
    "\n",
    "    # Getting the labels of the points\n",
    "    labels = kmeans.labels_ \n",
    "\n",
    "    # Create a list of clusters of size k\n",
    "    cluster = [[] for i in range(k)]\n",
    "\n",
    "    # Assign each point to its cluster\n",
    "    for i in range(len(labels)):\n",
    "        cluster[labels[i]].append(i)\n",
    "    \n",
    "    # Create array name clusterLabels to store the labels of the clusters based on the most frequent label in the cluster in y\n",
    "    clusterLabels = []\n",
    "    for i in range (k):\n",
    "        counterLabels = {}\n",
    "        for j in range(len(cluster[i])):\n",
    "            counterLabels[y[cluster[i][j]]] = counterLabels.get(y[cluster[i][j]], 0) + 1\n",
    "        # Assign the most frequent label to the cluster\n",
    "        maxLabel = max(counterLabels, key=counterLabels.get)\n",
    "        clusterLabels.append(maxLabel)\n",
    "    \n",
    "    pointsLabels = []\n",
    "    for i in range(len(labels)):\n",
    "        pointsLabels.append(clusterLabels[labels[i]])\n",
    "\n",
    "    return cluster, pointsLabels"
   ]
  },
  {
   "attachments": {},
   "cell_type": "markdown",
   "metadata": {},
   "source": [
    "## Evalaution"
   ]
  },
  {
   "attachments": {},
   "cell_type": "markdown",
   "metadata": {},
   "source": [
    "### Load the data"
   ]
  },
  {
   "cell_type": "code",
   "execution_count": 4,
   "metadata": {},
   "outputs": [],
   "source": [
    "# Loading the data\n",
    "x, y = loadData('archive/kddcup.data.corrected')"
   ]
  },
  {
   "attachments": {},
   "cell_type": "markdown",
   "metadata": {},
   "source": [
    "### Split the data"
   ]
  },
  {
   "cell_type": "code",
   "execution_count": 5,
   "metadata": {},
   "outputs": [],
   "source": [
    "# Splitting the data into train and test\n",
    "x_train, x_test, y_train, y_test = splitData(x, y, train_size= 0.00025)"
   ]
  },
  {
   "attachments": {},
   "cell_type": "markdown",
   "metadata": {},
   "source": [
    "### Preprocessing the Data"
   ]
  },
  {
   "cell_type": "code",
   "execution_count": 6,
   "metadata": {},
   "outputs": [
    {
     "name": "stdout",
     "output_type": "stream",
     "text": [
      "The shape of the training data is:  (1224, 69)\n"
     ]
    }
   ],
   "source": [
    "# Only using the training data, which will be preprocessed\n",
    "x_train = preprocessData(x_train)\n",
    "print(\"The shape of the training data is: \", x_train.shape)"
   ]
  },
  {
   "attachments": {},
   "cell_type": "markdown",
   "metadata": {},
   "source": [
    "### Evaluating"
   ]
  },
  {
   "cell_type": "code",
   "execution_count": 7,
   "metadata": {},
   "outputs": [
    {
     "name": "stderr",
     "output_type": "stream",
     "text": [
      "C:\\Users\\Yousef\\AppData\\Local\\Packages\\PythonSoftwareFoundation.Python.3.10_qbz5n2kfra8p0\\LocalCache\\local-packages\\Python310\\site-packages\\sklearn\\cluster\\_kmeans.py:870: FutureWarning: The default value of `n_init` will change from 10 to 'auto' in 1.4. Set the value of `n_init` explicitly to suppress the warning\n",
      "  warnings.warn(\n"
     ]
    }
   ],
   "source": [
    "clusters, y_pred = clusteringUsingNormalizedCut(x_train, 23, gamma=100, y=y_train)\n",
    "y_pred = np.array(y_pred)"
   ]
  },
  {
   "cell_type": "code",
   "execution_count": 11,
   "metadata": {},
   "outputs": [
    {
     "name": "stdout",
     "output_type": "stream",
     "text": [
      "The average precision(purity) is:  0.976090634885603\n",
      "The average recall is:  0.08255914777653907\n",
      "The average f1 score is:  0.15224149154628283\n",
      "--------------------------------------------------\n",
      "Precision:  0.20741989881956155\n",
      "Recall:  0.2712657712657713\n",
      "F1 score:  0.22418123196802187\n",
      "Accuracy:  0.7344771241830066\n"
     ]
    },
    {
     "name": "stderr",
     "output_type": "stream",
     "text": [
      "C:\\Users\\Yousef\\AppData\\Local\\Packages\\PythonSoftwareFoundation.Python.3.10_qbz5n2kfra8p0\\LocalCache\\local-packages\\Python310\\site-packages\\sklearn\\metrics\\_classification.py:1344: UndefinedMetricWarning: Precision is ill-defined and being set to 0.0 in labels with no predicted samples. Use `zero_division` parameter to control this behavior.\n",
      "  _warn_prf(average, modifier, msg_start, len(result))\n"
     ]
    }
   ],
   "source": [
    "total_prec = 0\n",
    "total_rec = 0\n",
    "f1 = 0\n",
    "\n",
    "\n",
    "for i in range(len(clusters)):\n",
    "    # precision is equal to the number of points in the cluster that are of the same class divided by the number of points in the cluster\n",
    "    prec = 0\n",
    "    # recall is equal to the number of points in the cluster that are of the same class divided by the number of points in the class\n",
    "    rec = 0\n",
    "    clusterLabel = y_pred[clusters[i][0]]\n",
    "    numberofPointsInCluster = len(clusters[i])\n",
    "    numberofPointsInClass = y_train.tolist().count(clusterLabel)\n",
    "    # Getting the number of points in the cluster that are of the same class\n",
    "    for j in range(len(clusters[i])):\n",
    "        if y_train[clusters[i][j]] == clusterLabel:\n",
    "            prec += 1\n",
    "            rec += 1\n",
    "    \n",
    "    # Computing the precision and recall\n",
    "    prec = prec / numberofPointsInCluster\n",
    "    rec = rec / numberofPointsInClass\n",
    "    total_prec += prec\n",
    "    total_rec += rec\n",
    "\n",
    "\n",
    "\n",
    "f1 = 2 * (total_prec/len(clusters) * total_rec/len(clusters)) / (total_prec/len(clusters) + total_rec/len(clusters))\n",
    "\n",
    "print(\"The average precision(purity) is: \", total_prec/len(clusters))\n",
    "print(\"The average recall is: \", total_rec/len(clusters))\n",
    "print(\"The average f1 score is: \", f1)\n",
    "\n",
    "\n",
    "print(\"-\" * 50)\n",
    "print(\"Precision: \", precision_score(y_train, y_pred, average='weighted'))\n",
    "print(\"Recall: \", recall_score(y_train, y_pred, average='weighted'))\n",
    "print(\"F1 score: \", f1_score(y_train, y_pred, average='weighted'))\n",
    "print(\"Accuracy: \", accuracy_score(y_train, y_pred))\n"
   ]
  }
 ],
 "metadata": {
  "kernelspec": {
   "display_name": "Python 3",
   "language": "python",
   "name": "python3"
  },
  "language_info": {
   "codemirror_mode": {
    "name": "ipython",
    "version": 3
   },
   "file_extension": ".py",
   "mimetype": "text/x-python",
   "name": "python",
   "nbconvert_exporter": "python",
   "pygments_lexer": "ipython3",
   "version": "3.10.10"
  },
  "orig_nbformat": 4
 },
 "nbformat": 4,
 "nbformat_minor": 2
}
