{
 "cells": [
  {
   "attachments": {},
   "cell_type": "markdown",
   "metadata": {},
   "source": [
    "# Spectral Clustering"
   ]
  },
  {
   "attachments": {},
   "cell_type": "markdown",
   "metadata": {},
   "source": [
    "## Important imports"
   ]
  },
  {
   "cell_type": "code",
   "execution_count": 5,
   "metadata": {},
   "outputs": [],
   "source": [
    "import numpy as np\n",
    "import pandas as pd\n",
    "from sklearn.metrics.pairwise import euclidean_distances\n",
    "from sklearn.preprocessing import OneHotEncoder\n",
    "from sklearn.compose import ColumnTransformer\n",
    "from sklearn.preprocessing import StandardScaler\n",
    "import pickle\n",
    "from sklearn.metrics import pairwise_distances\n",
    "from sklearn.model_selection import train_test_split\n",
    "from sklearn.metrics import ConfusionMatrixDisplay\n",
    "from sklearn.metrics import confusion_matrix\n",
    "from sklearn.metrics import classification_report\n",
    "from scipy.spatial import distance_matrix as distanceMatrix\n",
    "from sklearn.cluster import KMeans\n",
    "from sklearn.cluster import SpectralClustering\n",
    "from sklearn.metrics import precision_score, recall_score, f1_score\n",
    "from sklearn.metrics import accuracy_score\n",
    "from sklearn.metrics.pairwise import rbf_kernel"
   ]
  },
  {
   "attachments": {},
   "cell_type": "markdown",
   "metadata": {},
   "source": [
    "## Data and Preprocessing"
   ]
  },
  {
   "cell_type": "code",
   "execution_count": 6,
   "metadata": {},
   "outputs": [],
   "source": [
    "def loadData(path):\n",
    "    data = pd.read_csv(path)\n",
    "    x = data.iloc[:, :-1].values\n",
    "    y = data.iloc[:, -1].values\n",
    "    return x, y\n",
    "\n",
    "def splitData(x, y, train_size):\n",
    "    x_train, x_test, y_train, y_test = train_test_split(x, y, train_size=train_size, random_state=0, stratify=y)\n",
    "    return x_train, x_test, y_train, y_test\n",
    "\n",
    "def preprocessData(x):\n",
    "    ct = ColumnTransformer( [('one_hot_encoder', OneHotEncoder(), [1, 2, 3])], remainder='passthrough' )\n",
    "    ct = ct.fit(x)\n",
    "    x = pd.DataFrame(ct.transform(x))\n",
    "    # Drop the first, second and third columns\n",
    "    x = x.drop([1, 2, 3], axis=1)\n",
    "    return x"
   ]
  },
  {
   "attachments": {},
   "cell_type": "markdown",
   "metadata": {},
   "source": [
    "## Algorithm"
   ]
  },
  {
   "cell_type": "code",
   "execution_count": 7,
   "metadata": {},
   "outputs": [],
   "source": [
    "from sklearn.metrics.pairwise import rbf_kernel\n",
    "from sklearn.neighbors import kneighbors_graph\n",
    "from sklearn.cluster import KMeans\n",
    "def constructWeightMatrix(data, gamma = 10):\n",
    "    K=rbf_kernel(data, gamma=gamma)#the kernel matrix\n",
    "    K_symmetric=(K+K.T)/2\n",
    "    #to make it symmetric\n",
    "    n=25#as the number of features are 122\n",
    "    A=kneighbors_graph(K_symmetric, n_neighbors=n, mode='connectivity')#creating the connectivity graph\n",
    "    A=A.toarray()#toconvert it from sparse to dense matrix to be used in the spectral clustering\n",
    "    A_symmetric=(A+A.T)/2#to make it symmetric\n",
    "    A_symmetric[A_symmetric > 0] = 1 \n",
    "    return A_symmetric\n",
    "\n",
    "def clusteringUsingNormalizedCut(data, k, gamma = 10, y = None):\n",
    "    # Constructing the weight matrix\n",
    "    weight_matrix = constructWeightMatrix(data, gamma=gamma)\n",
    "\n",
    "    # Computing the degree matrix\n",
    "    degree_matrix = np.diag(np.sum(weight_matrix, axis=1))\n",
    "\n",
    "    # Computing the laplacian matrix\n",
    "    laplacian_matrix = degree_matrix - weight_matrix\n",
    "\n",
    "    # Computing the eigenvalues and eigenvectors of the laplacian matrix\n",
    "    eigenvalues, eigenvectors = np.linalg.eig(np.linalg.inv(degree_matrix).dot(laplacian_matrix))\n",
    "    \n",
    "    # Taking the only first k eigenvectors\n",
    "    eigenvectors = eigenvectors[:, :k]\n",
    "\n",
    "    # Taking only the real part of the eigenvectors\n",
    "    eigenvectors = np.real(eigenvectors)\n",
    "\n",
    "    # Convert the eigenvectors to pd dataframe\n",
    "    eigenvectors = pd.DataFrame(eigenvectors)\n",
    "    \n",
    "    # Normalizing the eigenvectors\n",
    "    eigenvectors = eigenvectors.apply(lambda x: (x - np.mean(x)) / np.std(x), axis=0)\n",
    "    \n",
    "    print(eigenvectors.shape)\n",
    "    # Applying k-means on the eigenvectors\n",
    "    kmeans = KMeans(n_clusters=k, random_state=0).fit(eigenvectors)\n",
    "\n",
    "    # Getting the labels of the points\n",
    "    labels = kmeans.labels_ \n",
    "\n",
    "    # Create a list of clusters of size k\n",
    "    cluster = [[] for i in range(k)]\n",
    "\n",
    "    # Assign each point to its cluster\n",
    "    for i in range(len(labels)):\n",
    "        cluster[labels[i]].append(i)\n",
    "    \n",
    "    # Create array name clusterLabels to store the labels of the clusters based on the most frequent label in the cluster in y\n",
    "    clusterLabels = []\n",
    "    for i in range (k):\n",
    "        counterLabels = {}\n",
    "        for j in range(len(cluster[i])):\n",
    "            counterLabels[y[cluster[i][j]]] = counterLabels.get(y[cluster[i][j]], 0) + 1\n",
    "        # Assign the most frequent label to the cluster\n",
    "        maxLabel = max(counterLabels, key=counterLabels.get)\n",
    "        clusterLabels.append(maxLabel)\n",
    "    \n",
    "    pointsLabels = []\n",
    "    for i in range(len(labels)):\n",
    "        pointsLabels.append(clusterLabels[labels[i]])\n",
    "\n",
    "    return cluster, pointsLabels"
   ]
  },
  {
   "attachments": {},
   "cell_type": "markdown",
   "metadata": {},
   "source": [
    "## Evalaution"
   ]
  },
  {
   "attachments": {},
   "cell_type": "markdown",
   "metadata": {},
   "source": [
    "### Load the data"
   ]
  },
  {
   "cell_type": "code",
   "execution_count": 8,
   "metadata": {},
   "outputs": [],
   "source": [
    "# Loading the data\n",
    "x, y = loadData('archive/kddcup.data.corrected')"
   ]
  },
  {
   "attachments": {},
   "cell_type": "markdown",
   "metadata": {},
   "source": [
    "### Preprocessing the Data"
   ]
  },
  {
   "cell_type": "code",
   "execution_count": 9,
   "metadata": {},
   "outputs": [
    {
     "name": "stdout",
     "output_type": "stream",
     "text": [
      "The shape of the training data is:  (4898430, 119)\n"
     ]
    }
   ],
   "source": [
    "x = preprocessData(x)\n",
    "print(\"The shape of the training data is: \", x.shape)"
   ]
  },
  {
   "attachments": {},
   "cell_type": "markdown",
   "metadata": {},
   "source": [
    "### Split the data"
   ]
  },
  {
   "cell_type": "code",
   "execution_count": 10,
   "metadata": {},
   "outputs": [],
   "source": [
    "# Splitting the data into train and test\n",
    "x_train, x_test, y_train, y_test = splitData(x, y, train_size= 0.00025)"
   ]
  },
  {
   "attachments": {},
   "cell_type": "markdown",
   "metadata": {},
   "source": [
    "### Evaluating"
   ]
  },
  {
   "cell_type": "code",
   "execution_count": 11,
   "metadata": {},
   "outputs": [
    {
     "name": "stdout",
     "output_type": "stream",
     "text": [
      "(1224, 23)\n"
     ]
    },
    {
     "name": "stderr",
     "output_type": "stream",
     "text": [
      "c:\\python\\python310\\lib\\site-packages\\sklearn\\cluster\\_kmeans.py:870: FutureWarning: The default value of `n_init` will change from 10 to 'auto' in 1.4. Set the value of `n_init` explicitly to suppress the warning\n",
      "  warnings.warn(\n"
     ]
    }
   ],
   "source": [
    "clusters, y_pred = clusteringUsingNormalizedCut(x_train, 23, gamma=0.1, y=y_train)\n",
    "y_pred = np.array(y_pred)"
   ]
  },
  {
   "cell_type": "code",
   "execution_count": 12,
   "metadata": {},
   "outputs": [
    {
     "name": "stdout",
     "output_type": "stream",
     "text": [
      "Weight\n",
      "Precision:  0.9129535534219594\n",
      "Recall:  0.875\n",
      "F1 score:  0.8710864370111667\n",
      "Accuracy:  0.875\n",
      "----------------------------------------------------------------------------------------------------\n",
      "Macro\n",
      "Precision:  0.37250025551051\n",
      "Recall:  0.35974414995973875\n",
      "F1 score:  0.35063705278118545\n",
      "Accuracy:  0.875\n",
      "----------------------------------------------------------------------------------------------------\n",
      "              precision    recall  f1-score   support\n",
      "\n",
      "    ipsweep.       0.00      0.00      0.00         3\n",
      "    neptune.       0.99      0.55      0.71       268\n",
      "       nmap.       0.00      0.00      0.00         1\n",
      "     normal.       0.61      1.00      0.76       243\n",
      "  portsweep.       0.00      0.00      0.00         3\n",
      "      satan.       0.00      0.00      0.00         4\n",
      "      smurf.       1.00      0.97      0.98       702\n",
      "\n",
      "    accuracy                           0.88      1224\n",
      "   macro avg       0.37      0.36      0.35      1224\n",
      "weighted avg       0.91      0.88      0.87      1224\n",
      "\n"
     ]
    },
    {
     "name": "stderr",
     "output_type": "stream",
     "text": [
      "c:\\python\\python310\\lib\\site-packages\\sklearn\\metrics\\_classification.py:1344: UndefinedMetricWarning: Precision is ill-defined and being set to 0.0 in labels with no predicted samples. Use `zero_division` parameter to control this behavior.\n",
      "  _warn_prf(average, modifier, msg_start, len(result))\n",
      "c:\\python\\python310\\lib\\site-packages\\sklearn\\metrics\\_classification.py:1344: UndefinedMetricWarning: Precision is ill-defined and being set to 0.0 in labels with no predicted samples. Use `zero_division` parameter to control this behavior.\n",
      "  _warn_prf(average, modifier, msg_start, len(result))\n",
      "c:\\python\\python310\\lib\\site-packages\\sklearn\\metrics\\_classification.py:1344: UndefinedMetricWarning: Precision and F-score are ill-defined and being set to 0.0 in labels with no predicted samples. Use `zero_division` parameter to control this behavior.\n",
      "  _warn_prf(average, modifier, msg_start, len(result))\n",
      "c:\\python\\python310\\lib\\site-packages\\sklearn\\metrics\\_classification.py:1344: UndefinedMetricWarning: Precision and F-score are ill-defined and being set to 0.0 in labels with no predicted samples. Use `zero_division` parameter to control this behavior.\n",
      "  _warn_prf(average, modifier, msg_start, len(result))\n",
      "c:\\python\\python310\\lib\\site-packages\\sklearn\\metrics\\_classification.py:1344: UndefinedMetricWarning: Precision and F-score are ill-defined and being set to 0.0 in labels with no predicted samples. Use `zero_division` parameter to control this behavior.\n",
      "  _warn_prf(average, modifier, msg_start, len(result))\n"
     ]
    }
   ],
   "source": [
    "print(\"Weight\")\n",
    "print(\"Precision: \", precision_score(y_train, y_pred, average='weighted'))\n",
    "print(\"Recall: \", recall_score(y_train, y_pred, average='weighted'))\n",
    "print(\"F1 score: \", f1_score(y_train, y_pred, average='weighted'))\n",
    "print(\"Accuracy: \", accuracy_score(y_train, y_pred))\n",
    "\n",
    "print(\"-\" * 100)\n",
    "print(\"Macro\")\n",
    "print(\"Precision: \", precision_score(y_train, y_pred, average='macro'))\n",
    "print(\"Recall: \", recall_score(y_train, y_pred, average='macro'))\n",
    "print(\"F1 score: \", f1_score(y_train, y_pred, average='macro'))\n",
    "print(\"Accuracy: \", accuracy_score(y_train, y_pred))\n",
    "\n",
    "print(\"-\" * 100)\n",
    "\n",
    "print(classification_report(y_train, y_pred))"
   ]
  }
 ],
 "metadata": {
  "kernelspec": {
   "display_name": "Python 3",
   "language": "python",
   "name": "python3"
  },
  "language_info": {
   "codemirror_mode": {
    "name": "ipython",
    "version": 3
   },
   "file_extension": ".py",
   "mimetype": "text/x-python",
   "name": "python",
   "nbconvert_exporter": "python",
   "pygments_lexer": "ipython3",
   "version": "3.10.3"
  },
  "orig_nbformat": 4
 },
 "nbformat": 4,
 "nbformat_minor": 2
}
