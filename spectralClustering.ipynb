{
 "cells": [
  {
   "attachments": {},
   "cell_type": "markdown",
   "metadata": {},
   "source": [
    "# Spectral Clustering"
   ]
  },
  {
   "attachments": {},
   "cell_type": "markdown",
   "metadata": {},
   "source": [
    "## Important imports"
   ]
  },
  {
   "cell_type": "code",
   "execution_count": 1,
   "metadata": {},
   "outputs": [],
   "source": [
    "import numpy as np\n",
    "import pandas as pd\n",
    "from sklearn.metrics.pairwise import euclidean_distances\n",
    "from sklearn.preprocessing import OneHotEncoder\n",
    "from sklearn.compose import ColumnTransformer\n",
    "from sklearn.preprocessing import StandardScaler\n",
    "import pickle\n",
    "from sklearn.metrics import pairwise_distances\n",
    "from sklearn.model_selection import train_test_split\n",
    "from sklearn.metrics import ConfusionMatrixDisplay\n",
    "from sklearn.metrics import confusion_matrix\n",
    "from sklearn.metrics import classification_report\n",
    "from sklearn.metrics import accuracy_score\n",
    "from scipy.spatial import distance_matrix as distanceMatrix\n",
    "from sklearn.preprocessing import OneHotEncoder\n",
    "from sklearn.cluster import KMeans\n",
    "from sklearn.cluster import SpectralClustering\n"
   ]
  },
  {
   "attachments": {},
   "cell_type": "markdown",
   "metadata": {},
   "source": [
    "## Data and Preprocessing"
   ]
  },
  {
   "cell_type": "code",
   "execution_count": 2,
   "metadata": {},
   "outputs": [],
   "source": [
    "def loadData(path):\n",
    "    data = pd.read_csv(path)\n",
    "    x = data.iloc[:, :-1].values\n",
    "    y = data.iloc[:, -1].values\n",
    "    return x, y\n",
    "\n",
    "def splitData(x, y, train_size):\n",
    "    x_train, x_test, y_train, y_test = train_test_split(x, y, train_size=train_size, random_state=0, stratify=y)\n",
    "    return x_train, x_test, y_train, y_test\n",
    "\n",
    "def preprocessData(x):\n",
    "\n",
    "    ct = ColumnTransformer( [('one_hot_encoder', OneHotEncoder(), [1, 2, 3])], remainder='passthrough' )\n",
    "    ct = ct.fit(x)\n",
    "    x = pd.DataFrame(ct.transform(x))\n",
    "    # Drop the first, second and third columns\n",
    "    x = x.drop([1, 2, 3], axis=1)\n",
    "    return x"
   ]
  },
  {
   "attachments": {},
   "cell_type": "markdown",
   "metadata": {},
   "source": [
    "## Algorithm"
   ]
  },
  {
   "cell_type": "code",
   "execution_count": 10,
   "metadata": {},
   "outputs": [],
   "source": [
    "def constructWeightMatrix(data, gamma = 10):\n",
    "\n",
    "    return pairwise_distances(data, metric='euclidean')\n",
    "\n",
    "def clusteringUsingNormalizedCut(data, k, gamma = 10, y = None):\n",
    "\n",
    "    # Constructing the weight matrix\n",
    "    weight_matrix = constructWeightMatrix(data, gamma=gamma)\n",
    "\n",
    "    # Computing the degree matrix\n",
    "    degree_matrix = np.diag(np.sum(weight_matrix, axis=1))\n",
    "\n",
    "    # Computing the laplacian matrix\n",
    "    laplacian_matrix = degree_matrix - weight_matrix\n",
    "\n",
    "    # Computing the eigenvalues and eigenvectors of the laplacian matrix\n",
    "    eigenvalues, eigenvectors = np.linalg.eig(laplacian_matrix)\n",
    "    \n",
    "    # Taking the only first k eigenvectors\n",
    "    eigenvectors = eigenvectors[:, :k]\n",
    "    # Taking only the real part of the eigenvectors\n",
    "    eigenvectors = np.real(eigenvectors)\n",
    "    \n",
    "    # Convert the eigenvectors to pd dataframe\n",
    "    eigenvectors = pd.DataFrame(eigenvectors)\n",
    "    \n",
    "    # Applying k-means on the eigenvectors\n",
    "    kmeans = KMeans(n_clusters=k, random_state=0).fit(eigenvectors)\n",
    "    # Getting the labels\n",
    "    labels = kmeans.labels_\n",
    "\n",
    "    # Getting the clusters\n",
    "    cluster = []\n",
    "    for i in range(k):\n",
    "        cluster.append([])\n",
    "    \n",
    "    for i in range(len(labels)):\n",
    "        cluster[labels[i]].append(i)\n",
    "\n",
    "    # Using the majority voting to get the cluster labels\n",
    "    cluster_labels = []\n",
    "    for i in range(k):\n",
    "        cluster_labels.append([])\n",
    "        for j in cluster[i]:\n",
    "            cluster_labels[i].append(y[j])\n",
    "        cluster_labels[i] = max(set(cluster_labels[i]), key = cluster_labels[i].count)\n",
    "\n",
    "    return cluster, cluster_labels"
   ]
  },
  {
   "attachments": {},
   "cell_type": "markdown",
   "metadata": {},
   "source": [
    "## Evalaution"
   ]
  },
  {
   "attachments": {},
   "cell_type": "markdown",
   "metadata": {},
   "source": [
    "### Load the data"
   ]
  },
  {
   "cell_type": "code",
   "execution_count": 4,
   "metadata": {},
   "outputs": [],
   "source": [
    "# Loading the data\n",
    "x, y = loadData('archive/kddcup.data.corrected')"
   ]
  },
  {
   "attachments": {},
   "cell_type": "markdown",
   "metadata": {},
   "source": [
    "### Split the data"
   ]
  },
  {
   "cell_type": "code",
   "execution_count": 5,
   "metadata": {},
   "outputs": [],
   "source": [
    "# Splitting the data into train and test\n",
    "x_train, x_test, y_train, y_test = splitData(x, y, train_size= 0.00025)"
   ]
  },
  {
   "attachments": {},
   "cell_type": "markdown",
   "metadata": {},
   "source": [
    "### Preprocessing the Data"
   ]
  },
  {
   "cell_type": "code",
   "execution_count": 6,
   "metadata": {},
   "outputs": [
    {
     "name": "stdout",
     "output_type": "stream",
     "text": [
      "The shape of the training data is:  (1224, 69)\n"
     ]
    }
   ],
   "source": [
    "# Only using the training data, which will be preprocessed\n",
    "x_train = preprocessData(x_train)\n",
    "print(\"The shape of the training data is: \", x_train.shape)"
   ]
  },
  {
   "attachments": {},
   "cell_type": "markdown",
   "metadata": {},
   "source": [
    "### Evaluating"
   ]
  },
  {
   "cell_type": "code",
   "execution_count": 13,
   "metadata": {},
   "outputs": [
    {
     "name": "stderr",
     "output_type": "stream",
     "text": [
      "C:\\Users\\Yousef\\AppData\\Local\\Packages\\PythonSoftwareFoundation.Python.3.10_qbz5n2kfra8p0\\LocalCache\\local-packages\\Python310\\site-packages\\sklearn\\cluster\\_kmeans.py:870: FutureWarning: The default value of `n_init` will change from 10 to 'auto' in 1.4. Set the value of `n_init` explicitly to suppress the warning\n",
      "  warnings.warn(\n"
     ]
    },
    {
     "name": "stdout",
     "output_type": "stream",
     "text": [
      "['smurf.', 'normal.', 'normal.', 'normal.', 'normal.', 'normal.', 'normal.', 'normal.', 'normal.', 'normal.', 'normal.', 'normal.', 'normal.', 'normal.', 'normal.', 'normal.', 'normal.', 'normal.', 'normal.', 'normal.', 'normal.', 'normal.', 'normal.']\n",
      "              precision    recall  f1-score   support\n",
      "\n",
      "    ipsweep.       0.00      0.00      0.00         3\n",
      "    neptune.       0.00      0.00      0.00       268\n",
      "       nmap.       0.00      0.00      0.00         1\n",
      "     normal.       1.00      0.09      0.17       243\n",
      "  portsweep.       0.00      0.00      0.00         3\n",
      "      satan.       0.00      0.00      0.00         4\n",
      "      smurf.       0.58      1.00      0.74       702\n",
      "\n",
      "    accuracy                           0.59      1224\n",
      "   macro avg       0.23      0.16      0.13      1224\n",
      "weighted avg       0.53      0.59      0.46      1224\n",
      "\n"
     ]
    },
    {
     "name": "stderr",
     "output_type": "stream",
     "text": [
      "C:\\Users\\Yousef\\AppData\\Local\\Packages\\PythonSoftwareFoundation.Python.3.10_qbz5n2kfra8p0\\LocalCache\\local-packages\\Python310\\site-packages\\sklearn\\metrics\\_classification.py:1344: UndefinedMetricWarning: Precision and F-score are ill-defined and being set to 0.0 in labels with no predicted samples. Use `zero_division` parameter to control this behavior.\n",
      "  _warn_prf(average, modifier, msg_start, len(result))\n",
      "C:\\Users\\Yousef\\AppData\\Local\\Packages\\PythonSoftwareFoundation.Python.3.10_qbz5n2kfra8p0\\LocalCache\\local-packages\\Python310\\site-packages\\sklearn\\metrics\\_classification.py:1344: UndefinedMetricWarning: Precision and F-score are ill-defined and being set to 0.0 in labels with no predicted samples. Use `zero_division` parameter to control this behavior.\n",
      "  _warn_prf(average, modifier, msg_start, len(result))\n",
      "C:\\Users\\Yousef\\AppData\\Local\\Packages\\PythonSoftwareFoundation.Python.3.10_qbz5n2kfra8p0\\LocalCache\\local-packages\\Python310\\site-packages\\sklearn\\metrics\\_classification.py:1344: UndefinedMetricWarning: Precision and F-score are ill-defined and being set to 0.0 in labels with no predicted samples. Use `zero_division` parameter to control this behavior.\n",
      "  _warn_prf(average, modifier, msg_start, len(result))\n"
     ]
    }
   ],
   "source": [
    "clusters, y_pred = clusteringUsingNormalizedCut(x_train, 23, gamma=10, y=y_train)\n",
    "print(y_pred)\n",
    "predicted_labels = []\n",
    "for i in range(len(x_train)):\n",
    "    for j in range(len(clusters)):\n",
    "        if i in clusters[j]:\n",
    "            predicted_labels.append(y_pred[j])\n",
    "\n",
    "print(classification_report(y_train, y_pred=predicted_labels))"
   ]
  },
  {
   "cell_type": "code",
   "execution_count": null,
   "metadata": {},
   "outputs": [],
   "source": [
    "# Spectral Clustering using sklearn\n",
    "spectralClustering = SpectralClustering(n_clusters=23, affinity='rbf', gamma=1, random_state=0).fit(x_train)\n",
    "clusters = spectralClustering.labels_\n",
    "clusters = clusters.reshape(-1, 1)\n",
    "\n",
    "samplesLabels = []\n",
    "for i in range(len(clusters)):\n",
    "    print(clusters[i])\n",
    "    for j in clusters[i]:\n",
    "        samplesLabels.append(y_pred[i])\n",
    "    "
   ]
  }
 ],
 "metadata": {
  "kernelspec": {
   "display_name": "Python 3",
   "language": "python",
   "name": "python3"
  },
  "language_info": {
   "codemirror_mode": {
    "name": "ipython",
    "version": 3
   },
   "file_extension": ".py",
   "mimetype": "text/x-python",
   "name": "python",
   "nbconvert_exporter": "python",
   "pygments_lexer": "ipython3",
   "version": "3.10.10"
  },
  "orig_nbformat": 4
 },
 "nbformat": 4,
 "nbformat_minor": 2
}
