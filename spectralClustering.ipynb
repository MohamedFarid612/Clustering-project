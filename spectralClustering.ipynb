{
 "cells": [
  {
   "attachments": {},
   "cell_type": "markdown",
   "metadata": {},
   "source": [
    "# Spectral Clustering"
   ]
  },
  {
   "attachments": {},
   "cell_type": "markdown",
   "metadata": {},
   "source": [
    "## Important imports"
   ]
  },
  {
   "cell_type": "code",
   "execution_count": 1,
   "metadata": {},
   "outputs": [],
   "source": [
    "import numpy as np\n",
    "import pandas as pd\n",
    "from sklearn.metrics.pairwise import euclidean_distances\n",
    "from sklearn.preprocessing import OneHotEncoder\n",
    "from sklearn.compose import ColumnTransformer\n",
    "from sklearn.preprocessing import StandardScaler\n",
    "import pickle\n",
    "from sklearn.metrics import pairwise_distances\n",
    "from sklearn.model_selection import train_test_split\n",
    "from sklearn.metrics import ConfusionMatrixDisplay\n",
    "from sklearn.metrics import confusion_matrix\n",
    "from sklearn.metrics import classification_report\n",
    "from scipy.spatial import distance_matrix as distanceMatrix\n",
    "from sklearn.cluster import KMeans\n",
    "from sklearn.cluster import SpectralClustering\n",
    "from sklearn.metrics import precision_score, recall_score, f1_score\n",
    "from sklearn.metrics import accuracy_score\n",
    "from sklearn.metrics.pairwise import rbf_kernel"
   ]
  },
  {
   "attachments": {},
   "cell_type": "markdown",
   "metadata": {},
   "source": [
    "## Data and Preprocessing"
   ]
  },
  {
   "cell_type": "code",
   "execution_count": 2,
   "metadata": {},
   "outputs": [],
   "source": [
    "def loadData(path):\n",
    "    data = pd.read_csv(path)\n",
    "    x = data.iloc[:, :-1].values\n",
    "    y = data.iloc[:, -1].values\n",
    "    return x, y\n",
    "\n",
    "def splitData(x, y, train_size):\n",
    "    x_train, x_test, y_train, y_test = train_test_split(x, y, train_size=train_size, random_state=0, stratify=y)\n",
    "    return x_train, x_test, y_train, y_test\n",
    "\n",
    "def preprocessData(x):\n",
    "    ct = ColumnTransformer( [('one_hot_encoder', OneHotEncoder(), [1, 2, 3])], remainder='passthrough' )\n",
    "    ct = ct.fit(x)\n",
    "    x = pd.DataFrame(ct.transform(x))\n",
    "    # Drop the first, second and third columns\n",
    "    x = x.drop([1, 2, 3], axis=1)\n",
    "    return x"
   ]
  },
  {
   "attachments": {},
   "cell_type": "markdown",
   "metadata": {},
   "source": [
    "## Algorithm"
   ]
  },
  {
   "cell_type": "code",
   "execution_count": 3,
   "metadata": {},
   "outputs": [],
   "source": [
    "def constructWeightMatrix(data, gamma = 10):\n",
    "    # Computing the weight matrix using rbf kernel\n",
    "    weight_matrix = rbf_kernel(data, gamma=gamma)\n",
    "    return weight_matrix\n",
    "\n",
    "def clusteringUsingNormalizedCut(data, k, gamma = 10, y = None):\n",
    "    # Constructing the weight matrix\n",
    "    weight_matrix = constructWeightMatrix(data, gamma=gamma)\n",
    "\n",
    "    # Computing the degree matrix\n",
    "    degree_matrix = np.diag(np.sum(weight_matrix, axis=1))\n",
    "\n",
    "    # Computing the laplacian matrix\n",
    "    laplacian_matrix = degree_matrix - weight_matrix\n",
    "\n",
    "    # Computing the eigenvalues and eigenvectors of the laplacian matrix\n",
    "    eigenvalues, eigenvectors = np.linalg.eig(np.linalg.inv(degree_matrix).dot(laplacian_matrix))\n",
    "    \n",
    "    # Taking the only first k eigenvectors\n",
    "    eigenvectors = eigenvectors[:, :k]\n",
    "\n",
    "    # Taking only the real part of the eigenvectors\n",
    "    eigenvectors = np.real(eigenvectors)\n",
    "\n",
    "    # Convert the eigenvectors to pd dataframe\n",
    "    eigenvectors = pd.DataFrame(eigenvectors)\n",
    "    \n",
    "    # Normalizing the eigenvectors\n",
    "    eigenvectors = eigenvectors.apply(lambda x: (x - np.mean(x)) / np.std(x), axis=0)\n",
    "    \n",
    "    print(eigenvectors.shape)\n",
    "    # Applying k-means on the eigenvectors\n",
    "    kmeans = KMeans(n_clusters=k, random_state=0).fit(eigenvectors)\n",
    "\n",
    "    # Getting the labels of the points\n",
    "    labels = kmeans.labels_ \n",
    "\n",
    "    # Create a list of clusters of size k\n",
    "    cluster = [[] for i in range(k)]\n",
    "\n",
    "    # Assign each point to its cluster\n",
    "    for i in range(len(labels)):\n",
    "        cluster[labels[i]].append(i)\n",
    "    \n",
    "    # Create array name clusterLabels to store the labels of the clusters based on the most frequent label in the cluster in y\n",
    "    clusterLabels = []\n",
    "    for i in range (k):\n",
    "        counterLabels = {}\n",
    "        for j in range(len(cluster[i])):\n",
    "            counterLabels[y[cluster[i][j]]] = counterLabels.get(y[cluster[i][j]], 0) + 1\n",
    "        # Assign the most frequent label to the cluster\n",
    "        maxLabel = max(counterLabels, key=counterLabels.get)\n",
    "        clusterLabels.append(maxLabel)\n",
    "    \n",
    "    pointsLabels = []\n",
    "    for i in range(len(labels)):\n",
    "        pointsLabels.append(clusterLabels[labels[i]])\n",
    "\n",
    "    return cluster, pointsLabels"
   ]
  },
  {
   "attachments": {},
   "cell_type": "markdown",
   "metadata": {},
   "source": [
    "## Evalaution"
   ]
  },
  {
   "attachments": {},
   "cell_type": "markdown",
   "metadata": {},
   "source": [
    "### Load the data"
   ]
  },
  {
   "cell_type": "code",
   "execution_count": 4,
   "metadata": {},
   "outputs": [],
   "source": [
    "# Loading the data\n",
    "x, y = loadData('archive/kddcup.data.corrected')"
   ]
  },
  {
   "attachments": {},
   "cell_type": "markdown",
   "metadata": {},
   "source": [
    "### Preprocessing the Data"
   ]
  },
  {
   "cell_type": "code",
   "execution_count": 5,
   "metadata": {},
   "outputs": [
    {
     "name": "stdout",
     "output_type": "stream",
     "text": [
      "The shape of the training data is:  (4898430, 122)\n"
     ]
    }
   ],
   "source": [
    "x = preprocessData(x)\n",
    "print(\"The shape of the training data is: \", x.shape)"
   ]
  },
  {
   "attachments": {},
   "cell_type": "markdown",
   "metadata": {},
   "source": [
    "### Split the data"
   ]
  },
  {
   "cell_type": "code",
   "execution_count": 6,
   "metadata": {},
   "outputs": [],
   "source": [
    "# Splitting the data into train and test\n",
    "x_train, x_test, y_train, y_test = splitData(x, y, train_size= 0.00025)"
   ]
  },
  {
   "attachments": {},
   "cell_type": "markdown",
   "metadata": {},
   "source": [
    "### Evaluating"
   ]
  },
  {
   "cell_type": "code",
   "execution_count": null,
   "metadata": {},
   "outputs": [],
   "source": [
    "clusters, y_pred = clusteringUsingNormalizedCut(x_train, 23, gamma=100, y=y_train)\n",
    "y_pred = np.array(y_pred)"
   ]
  },
  {
   "cell_type": "code",
   "execution_count": null,
   "metadata": {},
   "outputs": [],
   "source": [
    "print(\"Precision: \", precision_score(y_train, y_pred, average='weighted'))\n",
    "print(\"Recall: \", recall_score(y_train, y_pred, average='weighted'))\n",
    "print(\"F1 score: \", f1_score(y_train, y_pred, average='weighted'))\n",
    "print(\"Accuracy: \", accuracy_score(y_train, y_pred))\n",
    "print(classification_report(y_train, y_pred))"
   ]
  }
 ],
 "metadata": {
  "kernelspec": {
   "display_name": "Python 3",
   "language": "python",
   "name": "python3"
  },
  "language_info": {
   "codemirror_mode": {
    "name": "ipython",
    "version": 3
   },
   "file_extension": ".py",
   "mimetype": "text/x-python",
   "name": "python",
   "nbconvert_exporter": "python",
   "pygments_lexer": "ipython3",
   "version": "3.10.10"
  },
  "orig_nbformat": 4
 },
 "nbformat": 4,
 "nbformat_minor": 2
}
